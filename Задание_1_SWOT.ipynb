{
  "nbformat": 4,
  "nbformat_minor": 0,
  "metadata": {
    "colab": {
      "name": "Задание 1 SWOT",
      "provenance": [],
      "collapsed_sections": [],
      "toc_visible": true
    },
    "kernelspec": {
      "display_name": "Python 3",
      "name": "python3"
    }
  },
  "cells": [
    {
      "cell_type": "markdown",
      "metadata": {
        "id": "yWzfyemRxTVG"
      },
      "source": [
        "# Задание 1 по дисциплине SWOT-анализ"
      ]
    },
    {
      "cell_type": "markdown",
      "metadata": {
        "id": "KKMQcBTIxe5C"
      },
      "source": [
        "# Информация об исполнителе"
      ]
    },
    {
      "cell_type": "code",
      "metadata": {
        "colab": {
          "base_uri": "https://localhost:8080/"
        },
        "id": "nHfJ_VjcyG8Z",
        "outputId": "0e95cb4f-763c-4907-cbb7-40f228137eaa"
      },
      "source": [
        "print (\"Исполнитель:\")\r\n",
        "print (\"Группа: 20БИ-3\")\r\n",
        "print (\"ФИО: Гуменюк Олеся Евгеньевна\")\r\n",
        "!ln -fs /usr/share/zoneinfo/Europe/Moscow /etc/localtime\r\n",
        "!date"
      ],
      "execution_count": null,
      "outputs": [
        {
          "output_type": "stream",
          "text": [
            "Исполнитель:\n",
            "Группа: 20БИ-3\n",
            "ФИО: Гуменюк Олеся Евгеньевна\n",
            "Wed Mar  3 17:25:23 MSK 2021\n"
          ],
          "name": "stdout"
        }
      ]
    },
    {
      "cell_type": "markdown",
      "metadata": {
        "id": "vmju4sDi0KkP"
      },
      "source": [
        "# Cвязь и обмен данными с Google-диском, содержание папок со   всеми используемыми ресурсами"
      ]
    },
    {
      "cell_type": "code",
      "metadata": {
        "colab": {
          "base_uri": "https://localhost:8080/",
          "height": 0
        },
        "id": "mylwN39y0kVx",
        "outputId": "f188461e-edc1-452f-88c7-2506021349f8"
      },
      "source": [
        "from google.colab import auth\r\n",
        "auth.authenticate_user()\r\n",
        "!pip install --upgrade gspread\r\n",
        "import gspread\r\n",
        "from google.colab import drive\r\n",
        "drive.mount('/content/drive')\r\n",
        "import os\r\n",
        "print(os.getcwd())\r\n",
        "print(os.listdir('./'))\r\n",
        "print(os.listdir('/content/drive'))\r\n",
        "print(os.listdir('/content/drive/MyDrive/Colab Notebooks/task1'))\r\n",
        "%ll -lF /content/drive/MyDrive/\"Colab Notebooks\"/task1/\r\n",
        "from oauth2client.client import GoogleCredentials\r\n",
        "gs = gspread.authorize(GoogleCredentials.get_application_default())"
      ],
      "execution_count": 182,
      "outputs": [
        {
          "output_type": "stream",
          "text": [
            "Requirement already up-to-date: gspread in /usr/local/lib/python3.7/dist-packages (3.7.0)\n",
            "Requirement already satisfied, skipping upgrade: google-auth-oauthlib>=0.4.1 in /usr/local/lib/python3.7/dist-packages (from gspread) (0.4.2)\n",
            "Requirement already satisfied, skipping upgrade: google-auth>=1.12.0 in /usr/local/lib/python3.7/dist-packages (from gspread) (1.27.0)\n",
            "Requirement already satisfied, skipping upgrade: requests-oauthlib>=0.7.0 in /usr/local/lib/python3.7/dist-packages (from google-auth-oauthlib>=0.4.1->gspread) (1.3.0)\n",
            "Requirement already satisfied, skipping upgrade: pyasn1-modules>=0.2.1 in /usr/local/lib/python3.7/dist-packages (from google-auth>=1.12.0->gspread) (0.2.8)\n",
            "Requirement already satisfied, skipping upgrade: six>=1.9.0 in /usr/local/lib/python3.7/dist-packages (from google-auth>=1.12.0->gspread) (1.15.0)\n",
            "Requirement already satisfied, skipping upgrade: cachetools<5.0,>=2.0.0 in /usr/local/lib/python3.7/dist-packages (from google-auth>=1.12.0->gspread) (4.2.1)\n",
            "Requirement already satisfied, skipping upgrade: rsa<5,>=3.1.4; python_version >= \"3.6\" in /usr/local/lib/python3.7/dist-packages (from google-auth>=1.12.0->gspread) (4.7.2)\n",
            "Requirement already satisfied, skipping upgrade: setuptools>=40.3.0 in /usr/local/lib/python3.7/dist-packages (from google-auth>=1.12.0->gspread) (54.0.0)\n",
            "Requirement already satisfied, skipping upgrade: oauthlib>=3.0.0 in /usr/local/lib/python3.7/dist-packages (from requests-oauthlib>=0.7.0->google-auth-oauthlib>=0.4.1->gspread) (3.1.0)\n",
            "Requirement already satisfied, skipping upgrade: requests>=2.0.0 in /usr/local/lib/python3.7/dist-packages (from requests-oauthlib>=0.7.0->google-auth-oauthlib>=0.4.1->gspread) (2.23.0)\n",
            "Requirement already satisfied, skipping upgrade: pyasn1<0.5.0,>=0.4.6 in /usr/local/lib/python3.7/dist-packages (from pyasn1-modules>=0.2.1->google-auth>=1.12.0->gspread) (0.4.8)\n",
            "Requirement already satisfied, skipping upgrade: idna<3,>=2.5 in /usr/local/lib/python3.7/dist-packages (from requests>=2.0.0->requests-oauthlib>=0.7.0->google-auth-oauthlib>=0.4.1->gspread) (2.10)\n",
            "Requirement already satisfied, skipping upgrade: chardet<4,>=3.0.2 in /usr/local/lib/python3.7/dist-packages (from requests>=2.0.0->requests-oauthlib>=0.7.0->google-auth-oauthlib>=0.4.1->gspread) (3.0.4)\n",
            "Requirement already satisfied, skipping upgrade: certifi>=2017.4.17 in /usr/local/lib/python3.7/dist-packages (from requests>=2.0.0->requests-oauthlib>=0.7.0->google-auth-oauthlib>=0.4.1->gspread) (2020.12.5)\n",
            "Requirement already satisfied, skipping upgrade: urllib3!=1.25.0,!=1.25.1,<1.26,>=1.21.1 in /usr/local/lib/python3.7/dist-packages (from requests>=2.0.0->requests-oauthlib>=0.7.0->google-auth-oauthlib>=0.4.1->gspread) (1.24.3)\n",
            "Drive already mounted at /content/drive; to attempt to forcibly remount, call drive.mount(\"/content/drive\", force_remount=True).\n",
            "/content\n",
            "['.config', 'drive', 'adc.json', 'sample_data']\n",
            "['MyDrive', '.shortcut-targets-by-id', '.file-revisions-by-id', '.Trash']\n",
            "['Задание 1 SWOT', 'table1.gsheet']\n",
            "total 26\n",
            "-rw------- 1 root   151 Mar  3 19:54  table1.gsheet\n",
            "-rw------- 1 root 26087 Mar  3 19:59 'Задание 1 SWOT'\n"
          ],
          "name": "stdout"
        }
      ]
    },
    {
      "cell_type": "markdown",
      "metadata": {
        "id": "fDWZFOWS32OV"
      },
      "source": [
        "# Элементы SWOT-анализа для тренажерного зала"
      ]
    },
    {
      "cell_type": "markdown",
      "metadata": {
        "id": "76WWV4wYd1ha"
      },
      "source": [
        "#Подготовка таблицы"
      ]
    },
    {
      "cell_type": "code",
      "metadata": {
        "colab": {
          "base_uri": "https://localhost:8080/",
          "height": 0
        },
        "id": "ybcWa5DNyJ-q",
        "outputId": "fbc203b2-48f5-46fa-8096-dcfce1292f6e"
      },
      "source": [
        "import os\r\n",
        "import time\r\n",
        "%ll -lAF /content/drive/MyDrive/\"Colab Notebooks\"/task1/\r\n",
        "try:\r\n",
        "  os.stat('/content/drive/MyDrive/Colab Notebooks/task1/table1.gsheet')\r\n",
        "  table = gs.open_by_key('1rWI3nAXabk3o9GwqK5w1_dkf7Podbzc937XAKvpdlA4')\r\n",
        "except Exception as mistake:\r\n",
        "    print('\\n',mistake)\r\n",
        "    print(\"Необходимо создать таблицу\\n\")\r\n",
        "    %ll -lAF /content/drive/MyDrive/\r\n",
        "    gs_01 = gs.create('table1')\r\n",
        "    time.sleep(30)\r\n",
        "    %ll -lAF /content/drive/MyDrive/\r\n",
        "    print(gs_01)\r\n",
        "    print (gs_01.id)\r\n",
        "    print(dir(gs_01))\r\n",
        "    %ll -lAF /content/drive/MyDrive/\"Colab Notebooks\"/task1\r\n",
        "    %mv  /content/drive/MyDrive/table_01.gsheet /content/drive/MyDrive/\"Colab Notebooks\"/task1/\r\n",
        "    %ll -lAF /content/drive/MyDrive/\"Colab Notebooks\"/task1/\r\n",
        "print(dir(table))"
      ],
      "execution_count": 183,
      "outputs": [
        {
          "output_type": "stream",
          "text": [
            "total 25\n",
            "-rw------- 1 root   151 Mar  3 19:54  table1.gsheet\n",
            "-rw------- 1 root 24561 Mar  3 20:00 'Задание 1 SWOT'\n",
            "['__class__', '__delattr__', '__dict__', '__dir__', '__doc__', '__eq__', '__format__', '__ge__', '__getattribute__', '__gt__', '__hash__', '__init__', '__init_subclass__', '__iter__', '__le__', '__lt__', '__module__', '__ne__', '__new__', '__reduce__', '__reduce_ex__', '__repr__', '__setattr__', '__sizeof__', '__str__', '__subclasshook__', '__weakref__', '_properties', 'add_worksheet', 'batch_update', 'client', 'del_worksheet', 'fetch_sheet_metadata', 'get_worksheet', 'id', 'list_permissions', 'remove_permissions', 'share', 'sheet1', 'title', 'updated', 'values_append', 'values_clear', 'values_get', 'values_update', 'worksheet', 'worksheets']\n"
          ],
          "name": "stdout"
        }
      ]
    },
    {
      "cell_type": "markdown",
      "metadata": {
        "id": "HKe2rvET4oV9"
      },
      "source": [
        "# Лист Strengths"
      ]
    },
    {
      "cell_type": "code",
      "metadata": {
        "colab": {
          "base_uri": "https://localhost:8080/",
          "height": 0
        },
        "id": "nD2SWO1ZzH3O",
        "outputId": "0055b944-c88d-4fbc-8cf5-ccc4677bad9d"
      },
      "source": [
        "print(table.worksheets())\r\n",
        "try:\r\n",
        "  worksheet = table.worksheet('Strengths')\r\n",
        "except Exception as mistake:\r\n",
        "    print('\\n',mistake)\r\n",
        "    print(\"Необходимо создать лист\\n\")\r\n",
        "    worksheet = table.add_worksheet(\"Strengths\",100,100)\r\n",
        "\r\n",
        "print(dir(worksheet))\r\n",
        "rows = worksheet.get_all_values()\r\n",
        "power_strengths = list()\r\n",
        "i=0\r\n",
        "for row in rows:\r\n",
        "  if(i>0):\r\n",
        "    print (i, row)\r\n",
        "    power_strengths.append(int(row[1])*float(row[2]))\r\n",
        "  i+=1\r\n",
        "cell_list = worksheet.range('D2:D5')\r\n",
        "cell_values = power_strengths\r\n",
        "for i, val in enumerate(cell_values):  \r\n",
        "    cell_list[i].value = val   \r\n",
        "worksheet.update_cells(cell_list)"
      ],
      "execution_count": 208,
      "outputs": [
        {
          "output_type": "stream",
          "text": [
            "[<Worksheet 'Strengths' id:0>, <Worksheet 'Weaknesses' id:1707558791>, <Worksheet 'Opportunities' id:764396106>, <Worksheet 'Threats' id:872234231>, <Worksheet 'Results' id:547076801>]\n",
            "['__class__', '__delattr__', '__dict__', '__dir__', '__doc__', '__eq__', '__format__', '__ge__', '__getattribute__', '__gt__', '__hash__', '__init__', '__init_subclass__', '__le__', '__lt__', '__module__', '__ne__', '__new__', '__reduce__', '__reduce_ex__', '__repr__', '__setattr__', '__sizeof__', '__str__', '__subclasshook__', '__weakref__', '_finder', '_properties', 'acell', 'add_cols', 'add_rows', 'append_row', 'cell', 'clear', 'client', 'col_count', 'col_values', 'delete_row', 'export', 'find', 'findall', 'get_all_records', 'get_all_values', 'id', 'insert_row', 'range', 'resize', 'row_count', 'row_values', 'spreadsheet', 'title', 'update_acell', 'update_cell', 'update_cells', 'update_title', 'updated']\n",
            "1 ['Отсутсвие феномена сезонности', '7', '1.0', '7']\n",
            "2 ['Высокий спрос на предоставляемые услуги', '9', '0.5', '4,5']\n",
            "3 ['Относительно быстрая окупаемость', '8', '0.5', '4']\n",
            "4 ['Простая организация работы и рабочего пространства', '7', '0.7', '4,9']\n"
          ],
          "name": "stdout"
        },
        {
          "output_type": "execute_result",
          "data": {
            "text/plain": [
              "{'spreadsheetId': '1rWI3nAXabk3o9GwqK5w1_dkf7Podbzc937XAKvpdlA4',\n",
              " 'updatedCells': 4,\n",
              " 'updatedColumns': 1,\n",
              " 'updatedRange': 'Strengths!D2:D5',\n",
              " 'updatedRows': 4}"
            ]
          },
          "metadata": {
            "tags": []
          },
          "execution_count": 208
        }
      ]
    },
    {
      "cell_type": "markdown",
      "metadata": {
        "id": "nW7g89HxGexN"
      },
      "source": [
        "# Столбчатая диаграмма Strengths"
      ]
    },
    {
      "cell_type": "code",
      "metadata": {
        "colab": {
          "base_uri": "https://localhost:8080/",
          "height": 413
        },
        "id": "dahHAkKbGqfD",
        "outputId": "30a9a20c-e10b-4cac-91f5-086fe40a0caf"
      },
      "source": [
        "import matplotlib\r\n",
        "import matplotlib.pyplot as plt\r\n",
        "\r\n",
        "x_float = [1,2,3,4]\r\n",
        "y = power_strengths\r\n",
        "y_float = power_strengths                                                                                                                                 \r\n",
        "\r\n",
        "x_pos=list()\r\n",
        "for i in range(x_float.__len__()):\r\n",
        "    x_pos.append(i)\r\n",
        "\r\n",
        "fig=plt.figure(figsize=(8,6), dpi=72)\r\n",
        "plt.bar(x_pos, y_float, width=0.75, align='edge', alpha=0.4)\r\n",
        "plt.xticks(x_pos,  x_float, fontsize=14)\r\n",
        "plt.xlabel('Обозначения', fontsize=14)\r\n",
        "plt.ylabel('Мощность воздействия', fontsize=14)\r\n",
        "plt.title('Strengths', fontsize=14)\r\n",
        "plt.grid(True, color='r', linestyle='-', linewidth=2)\r\n",
        "\r\n",
        "plt.show()"
      ],
      "execution_count": 196,
      "outputs": [
        {
          "output_type": "display_data",
          "data": {
            "image/png": "[encoded data removed]",
            "text/plain": [
              "<Figure size 576x432 with 1 Axes>"
            ]
          },
          "metadata": {
            "tags": [],
            "needs_background": "light"
          }
        }
      ]
    },
    {
      "cell_type": "markdown",
      "metadata": {
        "id": "GnCPPBL0BYw2"
      },
      "source": [
        "# Лист Weaknesses"
      ]
    },
    {
      "cell_type": "code",
      "metadata": {
        "colab": {
          "base_uri": "https://localhost:8080/",
          "height": 0
        },
        "id": "ZbMsXDgeBiNw",
        "outputId": "351c28f7-42ab-45be-81d9-d3d8487ca3b0"
      },
      "source": [
        "print(table.worksheets())\r\n",
        "try:\r\n",
        "  worksheet = table.worksheet('Weaknesses')\r\n",
        "except Exception as mistake:\r\n",
        "    print('\\n',mistake)\r\n",
        "    print(\"Необходимо создать лист\\n\")\r\n",
        "    worksheet = table.add_worksheet(\"Weaknesses\",100,100)\r\n",
        "\r\n",
        "print(dir(worksheet))\r\n",
        "rows = worksheet.get_all_values()\r\n",
        "power_weaknesses = list()\r\n",
        "i=0\r\n",
        "for row in rows:\r\n",
        "  if(i>0):\r\n",
        "    print (i, row)\r\n",
        "    power_weaknesses.append(int(row[1])*float(row[2]))\r\n",
        "  i+=1\r\n",
        "cell_list = worksheet.range('D2:D5')\r\n",
        "cell_values = power_weaknesses\r\n",
        "for i, val in enumerate(cell_values):  \r\n",
        "    cell_list[i].value = val   \r\n",
        "worksheet.update_cells(cell_list)"
      ],
      "execution_count": 209,
      "outputs": [
        {
          "output_type": "stream",
          "text": [
            "[<Worksheet 'Strengths' id:0>, <Worksheet 'Weaknesses' id:1707558791>, <Worksheet 'Opportunities' id:764396106>, <Worksheet 'Threats' id:872234231>, <Worksheet 'Results' id:547076801>]\n",
            "['__class__', '__delattr__', '__dict__', '__dir__', '__doc__', '__eq__', '__format__', '__ge__', '__getattribute__', '__gt__', '__hash__', '__init__', '__init_subclass__', '__le__', '__lt__', '__module__', '__ne__', '__new__', '__reduce__', '__reduce_ex__', '__repr__', '__setattr__', '__sizeof__', '__str__', '__subclasshook__', '__weakref__', '_finder', '_properties', 'acell', 'add_cols', 'add_rows', 'append_row', 'cell', 'clear', 'client', 'col_count', 'col_values', 'delete_row', 'export', 'find', 'findall', 'get_all_records', 'get_all_values', 'id', 'insert_row', 'range', 'resize', 'row_count', 'row_values', 'spreadsheet', 'title', 'update_acell', 'update_cell', 'update_cells', 'update_title', 'updated']\n",
            "1 ['Большие финансовые инвестиции', '8', '0.8', '6,4']\n",
            "2 ['Большое количество конкурентов', '9', '0.9', '8,1']\n",
            "3 ['Фокусировка услуг в основном на молодых людей', '7', '0.6', '4,2']\n",
            "4 ['Отсутствие сформированного узнаваемого имиджа', '8', '0.75', '6']\n"
          ],
          "name": "stdout"
        },
        {
          "output_type": "execute_result",
          "data": {
            "text/plain": [
              "{'spreadsheetId': '1rWI3nAXabk3o9GwqK5w1_dkf7Podbzc937XAKvpdlA4',\n",
              " 'updatedCells': 4,\n",
              " 'updatedColumns': 1,\n",
              " 'updatedRange': 'Weaknesses!D2:D5',\n",
              " 'updatedRows': 4}"
            ]
          },
          "metadata": {
            "tags": []
          },
          "execution_count": 209
        }
      ]
    },
    {
      "cell_type": "markdown",
      "metadata": {
        "id": "ryvM3frAHKkP"
      },
      "source": [
        "# Столбчатая диаграмма Weaknesses"
      ]
    },
    {
      "cell_type": "code",
      "metadata": {
        "colab": {
          "base_uri": "https://localhost:8080/",
          "height": 413
        },
        "id": "rm1a8y6qHDe1",
        "outputId": "461e96a6-822b-46ac-b26a-98f328c94943"
      },
      "source": [
        "import matplotlib\r\n",
        "import matplotlib.pyplot as plt\r\n",
        "\r\n",
        "x_float = [1,2,3,4]\r\n",
        "y = power_weaknesses\r\n",
        "y_float = power_weaknesses                                                                                                                                 \r\n",
        "\r\n",
        "x_pos=list()\r\n",
        "for i in range(x_float.__len__()):\r\n",
        "    x_pos.append(i)\r\n",
        "\r\n",
        "fig=plt.figure(figsize=(8,6), dpi=72)\r\n",
        "plt.bar(x_pos, y_float, width=0.75, align='edge', alpha=0.4)\r\n",
        "plt.xticks(x_pos,  x_float, fontsize=14)\r\n",
        "plt.xlabel('Обозначения', fontsize=14)\r\n",
        "plt.ylabel('Мощность воздействия', fontsize=14)\r\n",
        "plt.title('Weaknesses', fontsize=14)\r\n",
        "plt.grid(True, color='r', linestyle='-', linewidth=2)\r\n",
        "\r\n",
        "plt.show()"
      ],
      "execution_count": 199,
      "outputs": [
        {
          "output_type": "display_data",
          "data": {
            "image/png": "[encoded data removed]",
            "text/plain": [
              "<Figure size 576x432 with 1 Axes>"
            ]
          },
          "metadata": {
            "tags": [],
            "needs_background": "light"
          }
        }
      ]
    },
    {
      "cell_type": "markdown",
      "metadata": {
        "id": "bXsBccgpDHA_"
      },
      "source": [
        "# Лист Opportunities"
      ]
    },
    {
      "cell_type": "code",
      "metadata": {
        "colab": {
          "base_uri": "https://localhost:8080/",
          "height": 0
        },
        "id": "o7MCq7yWDRwE",
        "outputId": "5d2bf71f-6c81-480a-fdbd-ad3d14dcb5c9"
      },
      "source": [
        "print(table.worksheets())\r\n",
        "try:\r\n",
        "  worksheet = table.worksheet('Opportunities')\r\n",
        "except Exception as mistake:\r\n",
        "    print('\\n',mistake)\r\n",
        "    print(\"Необходимо создать лист\\n\")\r\n",
        "    worksheet = table.add_worksheet(\"Opportunities\",100,100)\r\n",
        "\r\n",
        "print(dir(worksheet))\r\n",
        "rows = worksheet.get_all_values()\r\n",
        "power_opportunities = list()\r\n",
        "i=0\r\n",
        "for row in rows:\r\n",
        "  if(i>0):\r\n",
        "    print (i, row)\r\n",
        "    power_opportunities.append(int(row[1])*float(row[2]))\r\n",
        "  i+=1\r\n",
        "cell_list = worksheet.range('D2:D5')\r\n",
        "cell_values = power_opportunities\r\n",
        "for i, val in enumerate(cell_values):  \r\n",
        "    cell_list[i].value = val   \r\n",
        "worksheet.update_cells(cell_list)"
      ],
      "execution_count": 213,
      "outputs": [
        {
          "output_type": "stream",
          "text": [
            "[<Worksheet 'Strengths' id:0>, <Worksheet 'Weaknesses' id:1707558791>, <Worksheet 'Opportunities' id:764396106>, <Worksheet 'Threats' id:872234231>, <Worksheet 'Results' id:547076801>]\n",
            "['__class__', '__delattr__', '__dict__', '__dir__', '__doc__', '__eq__', '__format__', '__ge__', '__getattribute__', '__gt__', '__hash__', '__init__', '__init_subclass__', '__le__', '__lt__', '__module__', '__ne__', '__new__', '__reduce__', '__reduce_ex__', '__repr__', '__setattr__', '__sizeof__', '__str__', '__subclasshook__', '__weakref__', '_finder', '_properties', 'acell', 'add_cols', 'add_rows', 'append_row', 'cell', 'clear', 'client', 'col_count', 'col_values', 'delete_row', 'export', 'find', 'findall', 'get_all_records', 'get_all_values', 'id', 'insert_row', 'range', 'resize', 'row_count', 'row_values', 'spreadsheet', 'title', 'update_acell', 'update_cell', 'update_cells', 'update_title', 'updated']\n",
            "1 ['Расширение спектра предоставляемых услуг', '8', '0.8', '6,4']\n",
            "2 ['Привлечение постоянных клиентов', '8', '0.65', '5,2']\n",
            "3 ['Популяризация спорта', '7', '0.55', '3,85']\n",
            "4 ['Улучшение качества предоставляемых услуг', '8', '0.8', '6,4']\n"
          ],
          "name": "stdout"
        },
        {
          "output_type": "execute_result",
          "data": {
            "text/plain": [
              "{'spreadsheetId': '1rWI3nAXabk3o9GwqK5w1_dkf7Podbzc937XAKvpdlA4',\n",
              " 'updatedCells': 4,\n",
              " 'updatedColumns': 1,\n",
              " 'updatedRange': 'Opportunities!D2:D5',\n",
              " 'updatedRows': 4}"
            ]
          },
          "metadata": {
            "tags": []
          },
          "execution_count": 213
        }
      ]
    },
    {
      "cell_type": "markdown",
      "metadata": {
        "id": "xGaevsWfHrId"
      },
      "source": [
        "# Столбчатая диаграмма Opportunities"
      ]
    },
    {
      "cell_type": "code",
      "metadata": {
        "colab": {
          "base_uri": "https://localhost:8080/",
          "height": 413
        },
        "id": "QpxnILRAHl3B",
        "outputId": "befb2f5e-4b18-4c4f-d3d8-83716fa7e3c8"
      },
      "source": [
        "import matplotlib\r\n",
        "import matplotlib.pyplot as plt\r\n",
        "\r\n",
        "x_float = [1,2,3,4]\r\n",
        "y = power_opportunities\r\n",
        "y_float = power_opportunities                                                                                                                               \r\n",
        "\r\n",
        "x_pos=list()\r\n",
        "for i in range(x_float.__len__()):\r\n",
        "    x_pos.append(i)\r\n",
        "\r\n",
        "fig=plt.figure(figsize=(8,6), dpi=72)\r\n",
        "plt.bar(x_pos, y_float, width=0.75, align='edge', alpha=0.4)\r\n",
        "plt.xticks(x_pos,  x_float, fontsize=14)\r\n",
        "plt.xlabel('Обозначения', fontsize=14)\r\n",
        "plt.ylabel('Мощность воздействия', fontsize=14)\r\n",
        "plt.title('Opportunities', fontsize=14)\r\n",
        "plt.grid(True, color='r', linestyle='-', linewidth=2)\r\n",
        "\r\n",
        "plt.show()"
      ],
      "execution_count": 214,
      "outputs": [
        {
          "output_type": "display_data",
          "data": {
            "image/png": "[encoded data removed]",
            "text/plain": [
              "<Figure size 576x432 with 1 Axes>"
            ]
          },
          "metadata": {
            "tags": [],
            "needs_background": "light"
          }
        }
      ]
    },
    {
      "cell_type": "markdown",
      "metadata": {
        "id": "Z5ELC4kcDqPo"
      },
      "source": [
        "# Лист Threats"
      ]
    },
    {
      "cell_type": "code",
      "metadata": {
        "colab": {
          "base_uri": "https://localhost:8080/",
          "height": 0
        },
        "id": "jTmjchDUDz6n",
        "outputId": "ec3e47d6-0bc0-4e74-a986-b395c42448d5"
      },
      "source": [
        "print(table.worksheets())\r\n",
        "try:\r\n",
        "  worksheet = table.worksheet('Threats')\r\n",
        "except Exception as mistake:\r\n",
        "    print('\\n',mistake)\r\n",
        "    print(\"Необходимо создать лист\\n\")\r\n",
        "    worksheet = table.add_worksheet(\"Threats\",100,100)\r\n",
        "\r\n",
        "print(dir(worksheet))\r\n",
        "rows = worksheet.get_all_values()\r\n",
        "power_threats = list()\r\n",
        "i=0\r\n",
        "for row in rows:\r\n",
        "  if(i>0):\r\n",
        "    print (i, row)\r\n",
        "    power_threats.append(int(row[1])*float(row[2]))\r\n",
        "  i+=1\r\n",
        "cell_list = worksheet.range('D2:D5')\r\n",
        "cell_values = power_threats\r\n",
        "for i, val in enumerate(cell_values):  \r\n",
        "    cell_list[i].value = val   \r\n",
        "worksheet.update_cells(cell_list)"
      ],
      "execution_count": 211,
      "outputs": [
        {
          "output_type": "stream",
          "text": [
            "[<Worksheet 'Strengths' id:0>, <Worksheet 'Weaknesses' id:1707558791>, <Worksheet 'Opportunities' id:764396106>, <Worksheet 'Threats' id:872234231>, <Worksheet 'Results' id:547076801>]\n",
            "['__class__', '__delattr__', '__dict__', '__dir__', '__doc__', '__eq__', '__format__', '__ge__', '__getattribute__', '__gt__', '__hash__', '__init__', '__init_subclass__', '__le__', '__lt__', '__module__', '__ne__', '__new__', '__reduce__', '__reduce_ex__', '__repr__', '__setattr__', '__sizeof__', '__str__', '__subclasshook__', '__weakref__', '_finder', '_properties', 'acell', 'add_cols', 'add_rows', 'append_row', 'cell', 'clear', 'client', 'col_count', 'col_values', 'delete_row', 'export', 'find', 'findall', 'get_all_records', 'get_all_values', 'id', 'insert_row', 'range', 'resize', 'row_count', 'row_values', 'spreadsheet', 'title', 'update_acell', 'update_cell', 'update_cells', 'update_title', 'updated']\n",
            "1 ['Усиление конкуренции', '9', '0.8', '7,2']\n",
            "2 ['Непонимание значимости ЗОЖ', '7', '0.8', '5,6']\n",
            "3 ['Снижение спроса на оказание платных услуг', '8', '0.75', '6']\n",
            "4 ['Распространение популярности домашнего фитнеса', '8', '0.6', '4,8']\n"
          ],
          "name": "stdout"
        },
        {
          "output_type": "execute_result",
          "data": {
            "text/plain": [
              "{'spreadsheetId': '1rWI3nAXabk3o9GwqK5w1_dkf7Podbzc937XAKvpdlA4',\n",
              " 'updatedCells': 4,\n",
              " 'updatedColumns': 1,\n",
              " 'updatedRange': 'Threats!D2:D5',\n",
              " 'updatedRows': 4}"
            ]
          },
          "metadata": {
            "tags": []
          },
          "execution_count": 211
        }
      ]
    },
    {
      "cell_type": "markdown",
      "metadata": {
        "id": "Z7C5uVaWIU6J"
      },
      "source": [
        "#Столбчатая диаграмма Threats"
      ]
    },
    {
      "cell_type": "code",
      "metadata": {
        "colab": {
          "base_uri": "https://localhost:8080/",
          "height": 413
        },
        "id": "HVnQDUkvINFc",
        "outputId": "4255b9f1-9ccc-4da0-ec3c-ffd8deaf4ac3"
      },
      "source": [
        "import matplotlib\r\n",
        "import matplotlib.pyplot as plt\r\n",
        "\r\n",
        "x_float = [1,2,3,4]\r\n",
        "y = power_threats\r\n",
        "y_float = power_threats                                                                                                                                \r\n",
        "\r\n",
        "x_pos=list()\r\n",
        "for i in range(x_float.__len__()):\r\n",
        "    x_pos.append(i)\r\n",
        "\r\n",
        "fig=plt.figure(figsize=(8,6), dpi=72)\r\n",
        "plt.bar(x_pos, y_float, width=0.75, align='edge', alpha=0.4)\r\n",
        "plt.xticks(x_pos,  x_float, fontsize=14)\r\n",
        "plt.xlabel('Обозначения', fontsize=14)\r\n",
        "plt.ylabel('Мощность воздействия', fontsize=14)\r\n",
        "plt.title('Threats', fontsize=14)\r\n",
        "plt.grid(True, color='r', linestyle='-', linewidth=2)\r\n",
        "\r\n",
        "plt.show()"
      ],
      "execution_count": 205,
      "outputs": [
        {
          "output_type": "display_data",
          "data": {
            "image/png": "[encoded data removed]",
            "text/plain": [
              "<Figure size 576x432 with 1 Axes>"
            ]
          },
          "metadata": {
            "tags": [],
            "needs_background": "light"
          }
        }
      ]
    },
    {
      "cell_type": "markdown",
      "metadata": {
        "id": "JLWG7myaJx24"
      },
      "source": [
        "# Итоговая таблица SWOT-анализа"
      ]
    },
    {
      "cell_type": "code",
      "metadata": {
        "colab": {
          "base_uri": "https://localhost:8080/",
          "height": 0
        },
        "id": "MUu9krZmJ6la",
        "outputId": "0a4ebc4a-0696-491d-edfe-7e8fc306fef6"
      },
      "source": [
        "print(table.worksheets())\r\n",
        "try:\r\n",
        "  worksheet = table.worksheet('Results')\r\n",
        "except Exception as mistake:\r\n",
        "    print('\\n',mistake)\r\n",
        "    print(\"Необходимо создать лист\\n\")\r\n",
        "    worksheet = table.add_worksheet(\"Results\",100,100)\r\n",
        "\r\n",
        "print(dir(worksheet))\r\n",
        "rows = worksheet.get_all_values()\r\n",
        "value = list()\r\n",
        "power = [sum(power_strengths),sum(power_weaknesses),sum(power_opportunities),sum(power_threats)]\r\n",
        "print (power)\r\n",
        "i=0\r\n",
        "for row in rows:\r\n",
        "  if(i>=0):\r\n",
        "    print (i, row)\r\n",
        "  i+=1\r\n",
        "cell_list = worksheet.range('B1:B5')\r\n",
        "cell_values = power\r\n",
        "for i, val in enumerate(cell_values):  \r\n",
        "    cell_list[i].value = val   \r\n",
        "worksheet.update_cells(cell_list)\r\n",
        "results = sum(power_strengths)-sum(power_weaknesses)+sum(power_opportunities)-sum(power_threats)\r\n",
        "worksheet.update_cell(5,2,results)"
      ],
      "execution_count": 239,
      "outputs": [
        {
          "output_type": "stream",
          "text": [
            "[<Worksheet 'Strengths' id:0>, <Worksheet 'Weaknesses' id:1707558791>, <Worksheet 'Opportunities' id:764396106>, <Worksheet 'Threats' id:872234231>, <Worksheet 'Results' id:547076801>]\n",
            "['__class__', '__delattr__', '__dict__', '__dir__', '__doc__', '__eq__', '__format__', '__ge__', '__getattribute__', '__gt__', '__hash__', '__init__', '__init_subclass__', '__le__', '__lt__', '__module__', '__ne__', '__new__', '__reduce__', '__reduce_ex__', '__repr__', '__setattr__', '__sizeof__', '__str__', '__subclasshook__', '__weakref__', '_finder', '_properties', 'acell', 'add_cols', 'add_rows', 'append_row', 'cell', 'clear', 'client', 'col_count', 'col_values', 'delete_row', 'export', 'find', 'findall', 'get_all_records', 'get_all_values', 'id', 'insert_row', 'range', 'resize', 'row_count', 'row_values', 'spreadsheet', 'title', 'update_acell', 'update_cell', 'update_cells', 'update_title', 'updated']\n",
            "[20.4, 21.85, 21.85, 23.6]\n",
            "0 ['Strengths', '20,4']\n",
            "1 ['Weaknesses', '21,85']\n",
            "2 ['Opportunities', '21,85']\n",
            "3 ['Threats', '23,6']\n",
            "4 ['Resut', '-3,2']\n"
          ],
          "name": "stdout"
        },
        {
          "output_type": "execute_result",
          "data": {
            "text/plain": [
              "{'spreadsheetId': '1rWI3nAXabk3o9GwqK5w1_dkf7Podbzc937XAKvpdlA4',\n",
              " 'updatedCells': 1,\n",
              " 'updatedColumns': 1,\n",
              " 'updatedRange': 'Results!B5',\n",
              " 'updatedRows': 1}"
            ]
          },
          "metadata": {
            "tags": []
          },
          "execution_count": 239
        }
      ]
    },
    {
      "cell_type": "markdown",
      "metadata": {
        "id": "voC03tcVRVCf"
      },
      "source": [
        "#Столбчатая диаграмма SWOT"
      ]
    },
    {
      "cell_type": "code",
      "metadata": {
        "colab": {
          "base_uri": "https://localhost:8080/",
          "height": 413
        },
        "id": "LiZvWQBGQKOV",
        "outputId": "5c3926a8-848d-4cbe-f37d-1fd6e2275f6f"
      },
      "source": [
        "import matplotlib\r\n",
        "import matplotlib.pyplot as plt\r\n",
        "\r\n",
        "title = [ \"strengths\", \"weaknesses\", \"opportunities\", \"threats\", \"result\"]\r\n",
        "x=title\r\n",
        "x_float = [1, 2, 3, 4, 5]\r\n",
        "y = power\r\n",
        "y_float = [sum(power_strengths),-sum(power_weaknesses),sum(power_opportunities),-sum(power_threats),results]                                                                                                                              \r\n",
        "\r\n",
        "x_pos=list()\r\n",
        "for i in range(x_float.__len__()):\r\n",
        "    x_pos.append(i)\r\n",
        "\r\n",
        "fig=plt.figure(figsize=(8,6), dpi=72)\r\n",
        "plt.bar(x_pos, y_float, width=0.75, align='edge', alpha=0.4)\r\n",
        "plt.xticks(x_pos,  x_float, fontsize=14)\r\n",
        "plt.xlabel('Обозначения', fontsize=14)\r\n",
        "plt.ylabel('Мощность воздействия', fontsize=14)\r\n",
        "plt.title('SWOT', fontsize=14)\r\n",
        "plt.grid(True, color='r', linestyle='-', linewidth=2)\r\n",
        "\r\n",
        "plt.show()"
      ],
      "execution_count": 241,
      "outputs": [
        {
          "output_type": "display_data",
          "data": {
            "image/png": "[encoded data removed]",
            "text/plain": [
              "<Figure size 576x432 with 1 Axes>"
            ]
          },
          "metadata": {
            "tags": [],
            "needs_background": "light"
          }
        }
      ]
    }
  ]
}